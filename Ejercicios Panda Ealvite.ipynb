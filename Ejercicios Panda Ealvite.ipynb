{
 "cells": [
  {
   "cell_type": "markdown",
   "metadata": {},
   "source": [
    "#### **Ejercicio 1: Creaci�n y manipulaci�n de Series**\n",
    "1. Crea una Serie que contenga las ventas de una tienda de lunes a viernes. Utiliza las siguientes cantidades:\n",
    "   - Lunes: 100\n",
    "   - Martes: 150\n",
    "   - Mi�rcoles: 200\n",
    "   - Jueves: 50\n",
    "   - Viernes: 300\n",
    "   \n",
    "2. Realiza las siguientes operaciones sobre la Serie:\n",
    "   - Accede al valor de las ventas del mi�rcoles.\n",
    "   - Calcula el total de ventas de la semana.\n",
    "   - Filtra los d�as donde las ventas fueron mayores a 100."
   ]
  },
  {
   "cell_type": "code",
   "execution_count": 2,
   "metadata": {},
   "outputs": [
    {
     "ename": "ModuleNotFoundError",
     "evalue": "No module named 'pandas'",
     "output_type": "error",
     "traceback": [
      "\u001b[1;31m---------------------------------------------------------------------------\u001b[0m",
      "\u001b[1;31mModuleNotFoundError\u001b[0m                       Traceback (most recent call last)",
      "Cell \u001b[1;32mIn[2], line 1\u001b[0m\n\u001b[1;32m----> 1\u001b[0m \u001b[38;5;28;01mimport\u001b[39;00m \u001b[38;5;21;01mpandas\u001b[39;00m \u001b[38;5;28;01mas\u001b[39;00m \u001b[38;5;21;01mpd\u001b[39;00m\n\u001b[0;32m      3\u001b[0m \u001b[38;5;66;03m#Parte 1\u001b[39;00m\n\u001b[0;32m      4\u001b[0m ventas \u001b[38;5;241m=\u001b[39m pd\u001b[38;5;241m.\u001b[39mSeries([\u001b[38;5;241m100\u001b[39m,\u001b[38;5;241m150\u001b[39m,\u001b[38;5;241m200\u001b[39m,\u001b[38;5;241m50\u001b[39m,\u001b[38;5;241m300\u001b[39m],index\u001b[38;5;241m=\u001b[39m[\u001b[38;5;124m'\u001b[39m\u001b[38;5;124mLunes\u001b[39m\u001b[38;5;124m'\u001b[39m,\u001b[38;5;124m'\u001b[39m\u001b[38;5;124mMartes\u001b[39m\u001b[38;5;124m'\u001b[39m,\u001b[38;5;124m'\u001b[39m\u001b[38;5;124mMiercoles\u001b[39m\u001b[38;5;124m'\u001b[39m,\u001b[38;5;124m'\u001b[39m\u001b[38;5;124mJueves\u001b[39m\u001b[38;5;124m'\u001b[39m,\u001b[38;5;124m'\u001b[39m\u001b[38;5;124mViernes\u001b[39m\u001b[38;5;124m'\u001b[39m])\n",
      "\u001b[1;31mModuleNotFoundError\u001b[0m: No module named 'pandas'"
     ]
    }
   ],
   "source": [
    "import pandas as pd\n",
    "\n",
    "#Parte 1\n",
    "ventas = pd.Series([100,150,200,50,300],index=['Lunes','Martes','Miercoles','Jueves','Viernes'])\n",
    "print(ventas)\n",
    "\n",
    "#Parte 2\n",
    "print('Accede al valor del Miercoles')\n",
    "print(ventas['Miercoles']) # Accede al valor del Miercoles\n",
    "print('Ventas de la semana')\n",
    "print(ventas.sum()) # Ventas de la semana\n",
    "print('Ventas mayores a 100')\n",
    "print (ventas[ventas > 100]) # Filtra los dias mayores a 100\n",
    "print (ventas[ventas > 100]) # Filtra los dias mayores a 100\n",
    "\n"
   ]
  },
  {
   "cell_type": "markdown",
   "metadata": {},
   "source": [
    "#### **Ejercicio 2: Creaci�n y an�lisis de un DataFrame**\n",
    "1. Crea un DataFrame que contenga los nombres y edades de las siguientes personas:\n",
    "   - Ana, 23 a�os\n",
    "   - Luis, 35 a�os\n",
    "   - Mar�a, 29 a�os\n",
    "   \n",
    "2. Realiza las siguientes operaciones sobre el DataFrame:\n",
    "   - Accede a la columna de los nombres.\n",
    "   - Filtra las filas donde la edad sea mayor a 25.\n",
    "   - Agrega una nueva columna con los salarios de las personas (Ana: 30000, Luis: 45000, Mar�a: 35000)."
   ]
  },
  {
   "cell_type": "code",
   "execution_count": 18,
   "metadata": {},
   "outputs": [
    {
     "name": "stdout",
     "output_type": "stream",
     "text": [
      "  Nombre  Edad\n",
      "0    Ana    23\n",
      "1   Luis    35\n",
      "2  Maria    39\n",
      "Accede Nombres\n",
      "0      Ana\n",
      "1     Luis\n",
      "2    Maria\n",
      "Name: Nombre, dtype: object\n",
      "Filtra Edad > 25\n",
      "  Nombre  Edad\n",
      "1   Luis    35\n",
      "2  Maria    39\n"
     ]
    }
   ],
   "source": [
    "# Parte 1\n",
    "PersonasData = {'Nombre':['Ana','Luis','Maria'],'Edad':[23,35,39]}\n",
    "dfPersonas = pd.DataFrame(PersonasData)\n",
    "print(dfPersonas)\n",
    "\n",
    "# Parte 2\n",
    "print ('Accede Nombres')\n",
    "print(dfPersonas['Nombre'])\n",
    "\n",
    "print('Filtra Edad > 25')\n",
    "print(dfPersonas[dfPersonas['Edad'] > 25])\n",
    "\n"
   ]
  },
  {
   "cell_type": "markdown",
   "metadata": {},
   "source": [
    "#### **Ejercicio 3: C�lculos con DataFrames**\n",
    "1. Crea un DataFrame con informaci�n de ventas de productos en una tienda:\n",
    "   - Productos: \"Laptop\", \"Mouse\", \"Teclado\"\n",
    "   - Ventas: 30, 120, 75\n",
    "   - Precio por unidad: 1000, 50, 80\n",
    "\n",
    "2. Calcula:\n",
    "   - La venta total para cada producto (multiplicando el precio por unidad por las ventas).\n",
    "   - El total de ingresos para todos los productos."
   ]
  },
  {
   "cell_type": "code",
   "execution_count": 1,
   "metadata": {},
   "outputs": [
    {
     "ename": "NameError",
     "evalue": "name 'pd' is not defined",
     "output_type": "error",
     "traceback": [
      "\u001b[1;31m---------------------------------------------------------------------------\u001b[0m",
      "\u001b[1;31mNameError\u001b[0m                                 Traceback (most recent call last)",
      "Cell \u001b[1;32mIn[1], line 5\u001b[0m\n\u001b[0;32m      1\u001b[0m \u001b[38;5;66;03m# Parte 1\u001b[39;00m\n\u001b[0;32m      2\u001b[0m VentasProductosData \u001b[38;5;241m=\u001b[39m {\u001b[38;5;124m'\u001b[39m\u001b[38;5;124mProducto\u001b[39m\u001b[38;5;124m'\u001b[39m:[\u001b[38;5;124m'\u001b[39m\u001b[38;5;124mLaptop\u001b[39m\u001b[38;5;124m'\u001b[39m,\u001b[38;5;124m'\u001b[39m\u001b[38;5;124mMouse\u001b[39m\u001b[38;5;124m'\u001b[39m,\u001b[38;5;124m'\u001b[39m\u001b[38;5;124mTeclado\u001b[39m\u001b[38;5;124m'\u001b[39m],\n\u001b[0;32m      3\u001b[0m                        \u001b[38;5;124m'\u001b[39m\u001b[38;5;124mVentas\u001b[39m\u001b[38;5;124m'\u001b[39m:[\u001b[38;5;241m30\u001b[39m,\u001b[38;5;241m120\u001b[39m,\u001b[38;5;241m75\u001b[39m],\n\u001b[0;32m      4\u001b[0m                        \u001b[38;5;124m'\u001b[39m\u001b[38;5;124mPrecios\u001b[39m\u001b[38;5;124m'\u001b[39m:[\u001b[38;5;241m1000\u001b[39m,\u001b[38;5;241m50\u001b[39m,\u001b[38;5;241m80\u001b[39m]}\n\u001b[1;32m----> 5\u001b[0m dfProductos \u001b[38;5;241m=\u001b[39m \u001b[43mpd\u001b[49m\u001b[38;5;241m.\u001b[39mDataFrame(VentasProductosData)\n\u001b[0;32m      6\u001b[0m \u001b[38;5;28mprint\u001b[39m(dfProductos)\n\u001b[0;32m      8\u001b[0m \u001b[38;5;66;03m# Parte 2\u001b[39;00m\n\u001b[0;32m      9\u001b[0m \u001b[38;5;66;03m# Agrega columna ImporteTotal\u001b[39;00m\n",
      "\u001b[1;31mNameError\u001b[0m: name 'pd' is not defined"
     ]
    }
   ],
   "source": [
    "# Parte 1\n",
    "VentasProductosData = {'Producto':['Laptop','Mouse','Teclado'],\n",
    "                       'Ventas':[30,120,75],\n",
    "                       'Precios':[1000,50,80]}\n",
    "dfProductos = pd.DataFrame(VentasProductosData)\n",
    "print(dfProductos)\n",
    "\n",
    "\n",
    "# Parte 2\n",
    "# Agrega columna ImporteTotal\n",
    "dfProductos['ImporteTotal'] = dfProductos['Ventas']*dfProductos['Precios']\n",
    "\n",
    "print(dfProductos)\n",
    "      \n"
   ]
  },
  {
   "cell_type": "markdown",
   "metadata": {},
   "source": [
    "#### **Ejercicio 4: Transformaci�n y limpieza de datos en DataFrames**\n",
    "1. Crea un DataFrame con informaci�n de estudiantes y sus calificaciones en tres materias:\n",
    "   - Estudiantes: \"Ana\", \"Luis\", \"Mar�a\", \"Carlos\"\n",
    "   - Matem�ticas: 90, 85, None, 78\n",
    "   - Ciencia: 88, 92, 85, None\n",
    "   - Historia: 75, None, 80, 90\n",
    "\n",
    "2. Realiza las siguientes operaciones:\n",
    "   - Rellena los valores faltantes con la media de cada columna.\n",
    "   - Renombra las columnas de las materias en ingl�s (Math, Science, History).\n",
    "   - Calcula la calificaci�n promedio de cada estudiante."
   ]
  },
  {
   "cell_type": "code",
   "execution_count": 63,
   "metadata": {},
   "outputs": [
    {
     "name": "stdout",
     "output_type": "stream",
     "text": [
      "  Estudiante  Matematicas  Ciencia  Historia\n",
      "0        Ana         90.0     88.0      75.0\n",
      "1       Luis         85.0     92.0       NaN\n",
      "2      Maria          NaN     85.0      80.0\n",
      "3     Carlos         78.0      NaN      90.0\n",
      "Resultados de la Media\n",
      "  Estudiante  Matematicas    Ciencia   Historia\n",
      "0        Ana    90.000000  88.000000  75.000000\n",
      "1       Luis    85.000000  92.000000  81.666667\n",
      "2      Maria    84.333333  85.000000  80.000000\n",
      "3     Carlos    78.000000  88.333333  90.000000\n",
      "Calificacion Promedio\n",
      "  Estudiante  Matematicas    Ciencia   Historia  CalificacionPromedio\n",
      "0        Ana    90.000000  88.000000  75.000000             79.333333\n",
      "1       Luis    85.000000  92.000000  81.666667             85.111111\n",
      "2      Maria    84.333333  85.000000  80.000000             81.666667\n",
      "3     Carlos    78.000000  88.333333  90.000000             89.444444\n"
     ]
    }
   ],
   "source": [
    "# Parte 1\n",
    "EstudiantesData = {'Estudiante':['Ana','Luis','Maria','Carlos'],\n",
    "                   'Matematicas':[90,85,None,78],\n",
    "                   'Ciencia':[88,92,85,None],\n",
    "                   'Historia':[75,None,80,90]}\n",
    "\n",
    "dfEstudiantes = pd.DataFrame(EstudiantesData)\n",
    "print(dfEstudiantes)\n",
    "\n",
    "# Parte 2\n",
    "dfEstudiantes.at[1, 'Historia'] =  dfEstudiantes['Historia'].mean()\n",
    "dfEstudiantes.at[2, 'Matematicas'] =  dfEstudiantes['Matematicas'].mean()\n",
    "dfEstudiantes.at[3, 'Ciencia'] =  dfEstudiantes['Ciencia'].mean()\n",
    "\n",
    "print('Resultados de la Media')\n",
    "print(dfEstudiantes)\n",
    "\n",
    "# Agrega columna CalificacionPromedio\n",
    "dfEstudiantes['CalificacionPromedio'] = (dfEstudiantes['Ciencia']+dfEstudiantes['Historia']+dfEstudiantes['Historia'])/3\n",
    "\n",
    "print('Calificacion Promedio')\n",
    "print(dfEstudiantes)\n",
    "\n",
    "\n",
    "\n",
    "      \n"
   ]
  }
 ],
 "metadata": {
  "kernelspec": {
   "display_name": "entorno_virtual_crodrig",
   "language": "python",
   "name": "python3"
  },
  "language_info": {
   "codemirror_mode": {
    "name": "ipython",
    "version": 3
   },
   "file_extension": ".py",
   "mimetype": "text/x-python",
   "name": "python",
   "nbconvert_exporter": "python",
   "pygments_lexer": "ipython3",
   "version": "3.12.6"
  }
 },
 "nbformat": 4,
 "nbformat_minor": 2
}
