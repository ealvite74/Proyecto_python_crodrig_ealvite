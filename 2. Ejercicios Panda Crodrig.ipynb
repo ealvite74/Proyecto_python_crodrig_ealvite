{
 "cells": [
  {
   "cell_type": "markdown",
   "metadata": {},
   "source": [
    "#### **Ejercicio 1: Creación y manipulación de Series**\n",
    "1. Crea una Serie que contenga las ventas de una tienda de lunes a viernes. Utiliza las siguientes cantidades:\n",
    "   - Lunes: 100\n",
    "   - Martes: 150\n",
    "   - Miércoles: 200\n",
    "   - Jueves: 50\n",
    "   - Viernes: 300\n",
    "   \n",
    "2. Realiza las siguientes operaciones sobre la Serie:\n",
    "   - Accede al valor de las ventas del miércoles.\n",
    "   - Calcula el total de ventas de la semana.\n",
    "   - Filtra los días donde las ventas fueron mayores a 100."
   ]
  },
  {
   "cell_type": "code",
   "execution_count": 12,
   "metadata": {},
   "outputs": [
    {
     "name": "stdout",
     "output_type": "stream",
     "text": [
      "Lunes        100\n",
      "Martes       150\n",
      "Miercoles    200\n",
      "Jueves        50\n",
      "Viernes      300\n",
      "dtype: int64\n",
      "Accede al valor del Miercoles\n",
      "200\n",
      "Ventas de la semana\n",
      "800\n",
      "Ventas mayores a 100\n",
      "Martes       150\n",
      "Miercoles    200\n",
      "Viernes      300\n",
      "dtype: int64\n"
     ]
    }
   ],
   "source": [
    "import pandas as pd\n",
    "\n",
    "#Parte 1\n",
    "ventas = pd.Series([100,150,200,50,300],index=['Lunes','Martes','Miercoles','Jueves','Viernes'])\n",
    "print(ventas)\n",
    "\n",
    "#Parte 2\n",
    "print('Accede al valor del Miercoles')\n",
    "print(ventas['Miercoles']) # Accede al valor del Miercoles\n",
    "print('Ventas de la semana')\n",
    "print(ventas.sum()) # Ventas de la semana\n",
    "print('Ventas mayores a 100')\n",
    "print (ventas[ventas > 100]) # Filtra los dias mayores a 100\n"
   ]
  },
  {
   "cell_type": "markdown",
   "metadata": {},
   "source": [
    "#### **Ejercicio 2: Creación y análisis de un DataFrame**\n",
    "1. Crea un DataFrame que contenga los nombres y edades de las siguientes personas:\n",
    "   - Ana, 23 años\n",
    "   - Luis, 35 años\n",
    "   - María, 29 años\n",
    "   \n",
    "2. Realiza las siguientes operaciones sobre el DataFrame:\n",
    "   - Accede a la columna de los nombres.\n",
    "   - Filtra las filas donde la edad sea mayor a 25.\n",
    "   - Agrega una nueva columna con los salarios de las personas (Ana: 30000, Luis: 45000, María: 35000)."
   ]
  },
  {
   "cell_type": "code",
   "execution_count": 18,
   "metadata": {},
   "outputs": [
    {
     "name": "stdout",
     "output_type": "stream",
     "text": [
      "  Nombre  Edad\n",
      "0    Ana    23\n",
      "1   Luis    35\n",
      "2  Maria    39\n",
      "Accede Nombres\n",
      "0      Ana\n",
      "1     Luis\n",
      "2    Maria\n",
      "Name: Nombre, dtype: object\n",
      "Filtra Edad > 25\n",
      "  Nombre  Edad\n",
      "1   Luis    35\n",
      "2  Maria    39\n"
     ]
    }
   ],
   "source": [
    "# Parte 1\n",
    "PersonasData = {'Nombre':['Ana','Luis','Maria'],'Edad':[23,35,39]}\n",
    "dfPersonas = pd.DataFrame(PersonasData)\n",
    "print(dfPersonas)\n",
    "\n",
    "# Parte 2\n",
    "print ('Accede Nombres')\n",
    "print(dfPersonas['Nombre'])\n",
    "\n",
    "print('Filtra Edad > 25')\n",
    "print(dfPersonas[dfPersonas['Edad'] > 25])\n",
    "\n"
   ]
  },
  {
   "cell_type": "markdown",
   "metadata": {},
   "source": [
    "#### **Ejercicio 3: Cálculos con DataFrames**\n",
    "1. Crea un DataFrame con información de ventas de productos en una tienda:\n",
    "   - Productos: \"Laptop\", \"Mouse\", \"Teclado\"\n",
    "   - Ventas: 30, 120, 75\n",
    "   - Precio por unidad: 1000, 50, 80\n",
    "\n",
    "2. Calcula:\n",
    "   - La venta total para cada producto (multiplicando el precio por unidad por las ventas).\n",
    "   - El total de ingresos para todos los productos."
   ]
  },
  {
   "cell_type": "code",
   "execution_count": 29,
   "metadata": {},
   "outputs": [
    {
     "name": "stdout",
     "output_type": "stream",
     "text": [
      "  Producto  Ventas  Precios\n",
      "0   Laptop      30     1000\n",
      "1    Mouse     120       50\n",
      "2  Teclado      75       80\n",
      "  Producto  Ventas  Precios  ImporteTotal\n",
      "0   Laptop      30     1000         30000\n",
      "1    Mouse     120       50          6000\n",
      "2  Teclado      75       80          6000\n"
     ]
    }
   ],
   "source": [
    "# Parte 1\n",
    "VentasProductosData = {'Producto':['Laptop','Mouse','Teclado'],\n",
    "                       'Ventas':[30,120,75],\n",
    "                       'Precios':[1000,50,80]}\n",
    "dfProductos = pd.DataFrame(VentasProductosData)\n",
    "print(dfProductos)\n",
    "\n",
    "# Parte 2\n",
    "# Agrega columna ImporteTotal\n",
    "dfProductos['ImporteTotal'] = dfProductos['Ventas']*dfProductos['Precios']\n",
    "\n",
    "print(dfProductos)\n",
    "      \n"
   ]
  },
  {
   "cell_type": "markdown",
   "metadata": {},
   "source": [
    "#### **Ejercicio 4: Transformación y limpieza de datos en DataFrames**\n",
    "1. Crea un DataFrame con información de estudiantes y sus calificaciones en tres materias:\n",
    "   - Estudiantes: \"Ana\", \"Luis\", \"María\", \"Carlos\"\n",
    "   - Matemáticas: 90, 85, None, 78\n",
    "   - Ciencia: 88, 92, 85, None\n",
    "   - Historia: 75, None, 80, 90\n",
    "\n",
    "2. Realiza las siguientes operaciones:\n",
    "   - Rellena los valores faltantes con la media de cada columna.\n",
    "   - Renombra las columnas de las materias en inglés (Math, Science, History).\n",
    "   - Calcula la calificación promedio de cada estudiante."
   ]
  },
  {
   "cell_type": "code",
   "execution_count": 68,
   "metadata": {},
   "outputs": [
    {
     "name": "stdout",
     "output_type": "stream",
     "text": [
      "  Estudiante  Matematicas  Ciencia  Historia\n",
      "0        Ana         90.0     88.0      75.0\n",
      "1       Luis         85.0     92.0       NaN\n",
      "2      Maria          NaN     85.0      80.0\n",
      "3     Carlos         78.0      NaN      90.0\n",
      "Resultados de la Media\n",
      "  Estudiante  Matematicas    Ciencia   Historia\n",
      "0        Ana    90.000000  88.000000  75.000000\n",
      "1       Luis    85.000000  92.000000  81.666667\n",
      "2      Maria    84.333333  85.000000  80.000000\n",
      "3     Carlos    78.000000  88.333333  90.000000\n",
      "  Estudiante       Math    Science    History\n",
      "0        Ana  90.000000  88.000000  75.000000\n",
      "1       Luis  85.000000  92.000000  81.666667\n",
      "2      Maria  84.333333  85.000000  80.000000\n",
      "3     Carlos  78.000000  88.333333  90.000000\n",
      "Calificacion Promedio\n",
      "  Estudiante       Math    Science    History  CalificacionPromedio\n",
      "0        Ana  90.000000  88.000000  75.000000             84.333333\n",
      "1       Luis  85.000000  92.000000  81.666667             86.222222\n",
      "2      Maria  84.333333  85.000000  80.000000             83.111111\n",
      "3     Carlos  78.000000  88.333333  90.000000             85.444444\n"
     ]
    }
   ],
   "source": [
    "# Parte 1\n",
    "EstudiantesData = {'Estudiante':['Ana','Luis','Maria','Carlos'],\n",
    "                   'Matematicas':[90,85,None,78],\n",
    "                   'Ciencia':[88,92,85,None],\n",
    "                   'Historia':[75,None,80,90]}\n",
    "\n",
    "dfEstudiantes = pd.DataFrame(EstudiantesData)\n",
    "print(dfEstudiantes)\n",
    "\n",
    "# Parte 2\n",
    "# Rellena los valores faltantes con la media de cada columna\n",
    "dfEstudiantes.at[1, 'Historia'] =  dfEstudiantes['Historia'].mean()\n",
    "dfEstudiantes.at[2, 'Matematicas'] =  dfEstudiantes['Matematicas'].mean()\n",
    "dfEstudiantes.at[3, 'Ciencia'] =  dfEstudiantes['Ciencia'].mean()\n",
    "\n",
    "print('Resultados de la Media')\n",
    "print(dfEstudiantes)\n",
    "\n",
    "# Renombra las columnas de las materias en ingles\n",
    "dfEstudiantes.rename(columns={'Historia': 'History', 'Matematicas': 'Math', 'Ciencia':'Science'}, inplace=True)\n",
    "print(dfEstudiantes)\n",
    "\n",
    "# Agrega columna CalificacionPromedio\n",
    "dfEstudiantes['CalificacionPromedio'] = (dfEstudiantes['Science']+dfEstudiantes['History']+dfEstudiantes['Math'])/3\n",
    "\n",
    "print('Calificacion Promedio')\n",
    "print(dfEstudiantes)\n"
   ]
  }
 ],
 "metadata": {
  "kernelspec": {
   "display_name": "entorno_virtual_crodrig",
   "language": "python",
   "name": "python3"
  },
  "language_info": {
   "codemirror_mode": {
    "name": "ipython",
    "version": 3
   },
   "file_extension": ".py",
   "mimetype": "text/x-python",
   "name": "python",
   "nbconvert_exporter": "python",
   "pygments_lexer": "ipython3",
   "version": "3.12.6"
  }
 },
 "nbformat": 4,
 "nbformat_minor": 2
}
