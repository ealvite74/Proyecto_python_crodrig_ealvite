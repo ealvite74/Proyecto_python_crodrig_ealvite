{
 "cells": [
  {
   "cell_type": "markdown",
   "metadata": {},
   "source": [
    "### **Ejercicio 1: Análisis de Rentabilidad de Productos**\n",
    "Supongamos que eres analista de datos en una empresa de comercio electrónico. Tienes un DataFrame que lista varios productos, sus costos, precios de venta y unidades vendidas durante el último mes. Realiza un análisis para identificar qué productos son más rentables.\n",
    "\n",
    "- Calcula la ganancia por producto y agrega una columna de rentabilidad\n",
    "- Ordena los productos por rentabilidad"
   ]
  },
  {
   "cell_type": "code",
   "execution_count": 4,
   "metadata": {},
   "outputs": [
    {
     "data": {
      "text/html": [
       "<div>\n",
       "<style scoped>\n",
       "    .dataframe tbody tr th:only-of-type {\n",
       "        vertical-align: middle;\n",
       "    }\n",
       "\n",
       "    .dataframe tbody tr th {\n",
       "        vertical-align: top;\n",
       "    }\n",
       "\n",
       "    .dataframe thead th {\n",
       "        text-align: right;\n",
       "    }\n",
       "</style>\n",
       "<table border=\"1\" class=\"dataframe\">\n",
       "  <thead>\n",
       "    <tr style=\"text-align: right;\">\n",
       "      <th></th>\n",
       "      <th>Producto</th>\n",
       "      <th>Costo</th>\n",
       "      <th>Precio_venta</th>\n",
       "      <th>Unidades_vendidas</th>\n",
       "    </tr>\n",
       "  </thead>\n",
       "  <tbody>\n",
       "    <tr>\n",
       "      <th>0</th>\n",
       "      <td>Computadora</td>\n",
       "      <td>500</td>\n",
       "      <td>1000</td>\n",
       "      <td>30</td>\n",
       "    </tr>\n",
       "    <tr>\n",
       "      <th>1</th>\n",
       "      <td>Tablet</td>\n",
       "      <td>300</td>\n",
       "      <td>500</td>\n",
       "      <td>50</td>\n",
       "    </tr>\n",
       "    <tr>\n",
       "      <th>2</th>\n",
       "      <td>Smartphone</td>\n",
       "      <td>200</td>\n",
       "      <td>300</td>\n",
       "      <td>70</td>\n",
       "    </tr>\n",
       "    <tr>\n",
       "      <th>3</th>\n",
       "      <td>Auriculares</td>\n",
       "      <td>50</td>\n",
       "      <td>100</td>\n",
       "      <td>100</td>\n",
       "    </tr>\n",
       "    <tr>\n",
       "      <th>4</th>\n",
       "      <td>Cargador</td>\n",
       "      <td>20</td>\n",
       "      <td>50</td>\n",
       "      <td>150</td>\n",
       "    </tr>\n",
       "  </tbody>\n",
       "</table>\n",
       "</div>"
      ],
      "text/plain": [
       "      Producto  Costo  Precio_venta  Unidades_vendidas\n",
       "0  Computadora    500          1000                 30\n",
       "1       Tablet    300           500                 50\n",
       "2   Smartphone    200           300                 70\n",
       "3  Auriculares     50           100                100\n",
       "4     Cargador     20            50                150"
      ]
     },
     "execution_count": 4,
     "metadata": {},
     "output_type": "execute_result"
    }
   ],
   "source": [
    "import pandas as pd\n",
    "\n",
    "data = {\n",
    "    'Producto': ['Computadora', 'Tablet', 'Smartphone', 'Auriculares', 'Cargador'],\n",
    "    'Costo': [500, 300, 200, 50, 20],\n",
    "    'Precio_venta': [1000, 500, 300, 100, 50],\n",
    "    'Unidades_vendidas': [30, 50, 70, 100, 150]\n",
    "}\n",
    "\n",
    "df_productos = pd.DataFrame(data)\n",
    "df_productos"
   ]
  },
  {
   "cell_type": "code",
   "execution_count": 7,
   "metadata": {},
   "outputs": [
    {
     "data": {
      "text/html": [
       "<div>\n",
       "<style scoped>\n",
       "    .dataframe tbody tr th:only-of-type {\n",
       "        vertical-align: middle;\n",
       "    }\n",
       "\n",
       "    .dataframe tbody tr th {\n",
       "        vertical-align: top;\n",
       "    }\n",
       "\n",
       "    .dataframe thead th {\n",
       "        text-align: right;\n",
       "    }\n",
       "</style>\n",
       "<table border=\"1\" class=\"dataframe\">\n",
       "  <thead>\n",
       "    <tr style=\"text-align: right;\">\n",
       "      <th></th>\n",
       "      <th>Producto</th>\n",
       "      <th>Costo</th>\n",
       "      <th>Precio_venta</th>\n",
       "      <th>Unidades_vendidas</th>\n",
       "      <th>Rentabilidad</th>\n",
       "    </tr>\n",
       "  </thead>\n",
       "  <tbody>\n",
       "    <tr>\n",
       "      <th>4</th>\n",
       "      <td>Cargador</td>\n",
       "      <td>20</td>\n",
       "      <td>50</td>\n",
       "      <td>150</td>\n",
       "      <td>30</td>\n",
       "    </tr>\n",
       "    <tr>\n",
       "      <th>3</th>\n",
       "      <td>Auriculares</td>\n",
       "      <td>50</td>\n",
       "      <td>100</td>\n",
       "      <td>100</td>\n",
       "      <td>50</td>\n",
       "    </tr>\n",
       "    <tr>\n",
       "      <th>2</th>\n",
       "      <td>Smartphone</td>\n",
       "      <td>200</td>\n",
       "      <td>300</td>\n",
       "      <td>70</td>\n",
       "      <td>100</td>\n",
       "    </tr>\n",
       "    <tr>\n",
       "      <th>1</th>\n",
       "      <td>Tablet</td>\n",
       "      <td>300</td>\n",
       "      <td>500</td>\n",
       "      <td>50</td>\n",
       "      <td>200</td>\n",
       "    </tr>\n",
       "    <tr>\n",
       "      <th>0</th>\n",
       "      <td>Computadora</td>\n",
       "      <td>500</td>\n",
       "      <td>1000</td>\n",
       "      <td>30</td>\n",
       "      <td>500</td>\n",
       "    </tr>\n",
       "  </tbody>\n",
       "</table>\n",
       "</div>"
      ],
      "text/plain": [
       "      Producto  Costo  Precio_venta  Unidades_vendidas  Rentabilidad\n",
       "4     Cargador     20            50                150            30\n",
       "3  Auriculares     50           100                100            50\n",
       "2   Smartphone    200           300                 70           100\n",
       "1       Tablet    300           500                 50           200\n",
       "0  Computadora    500          1000                 30           500"
      ]
     },
     "execution_count": 7,
     "metadata": {},
     "output_type": "execute_result"
    }
   ],
   "source": [
    "#Parte 1\n",
    "df_productos['Rentabilidad'] = df_productos['Precio_venta'] - df_productos['Costo']\n",
    "\n",
    "#Parte 2\n",
    "df_productos.sort_values(['Rentabilidad'],inplace=True)\n",
    "df_productos\n",
    "\n",
    "##df_empleados.sort_values(['Edad'],ascending=False,inplace=True)"
   ]
  },
  {
   "cell_type": "markdown",
   "metadata": {},
   "source": [
    "### **Ejercicio 2: Segmentación de Clientes por Edad y Consumo**\n",
    "Como analista de marketing en una cadena de tiendas, debes segmentar a los clientes en grupos de edad y analizar sus patrones de gasto para optimizar las campañas de marketing.\n",
    "\n",
    "- Agrupa los clientes por rangos de edad y calcula el gasto promedio (investiga el método `cut`)"
   ]
  },
  {
   "cell_type": "code",
   "execution_count": 6,
   "metadata": {},
   "outputs": [],
   "source": [
    "data_clientes = {\n",
    "    'Cliente': ['Ana', 'Luis', 'María', 'Carlos', 'Josefina'],\n",
    "    'Edad': [25, 35, 45, 55, 65],\n",
    "    'Gasto_mensual': [200, 400, 600, 800, 1000]\n",
    "}\n",
    "\n",
    "df_clientes = pd.DataFrame(data_clientes)\n"
   ]
  },
  {
   "cell_type": "code",
   "execution_count": 30,
   "metadata": {},
   "outputs": [
    {
     "name": "stderr",
     "output_type": "stream",
     "text": [
      "C:\\Users\\cgrod\\AppData\\Local\\Temp\\ipykernel_34064\\3887845841.py:5: FutureWarning: The default of observed=False is deprecated and will be changed to True in a future version of pandas. Pass observed=False to retain current behavior or observed=True to adopt the future default and silence this warning.\n",
      "  Promedio_Gasto_Rango = df_clientes.groupby('RangoEdad')['Gasto_mensual'].mean()\n"
     ]
    },
    {
     "data": {
      "text/plain": [
       "RangoEdad\n",
       "(20, 40]     300.0\n",
       "(40, 60]     700.0\n",
       "(60, 80]    1000.0\n",
       "Name: Gasto_mensual, dtype: float64"
      ]
     },
     "execution_count": 30,
     "metadata": {},
     "output_type": "execute_result"
    }
   ],
   "source": [
    "#Parte 1\n",
    "df_clientes[\"RangoEdad\"] = pd.cut(x=df_clientes[\"Edad\"], bins=[20, 40, 60, 80])\n",
    "df_clientes\n",
    "\n",
    "Promedio_Gasto_Rango = df_clientes.groupby('RangoEdad')['Gasto_mensual'].mean()\n",
    "Promedio_Gasto_Rango\n",
    "\n",
    "#ventas_por_mes = df.groupby('Mes')['Ventas'].mean()\n",
    "#ventas_por_mes\n"
   ]
  },
  {
   "cell_type": "markdown",
   "metadata": {},
   "source": [
    "### **Ejercicio 3: Optimización de Inventarios**\n",
    "El departamento de operaciones necesita tu ayuda para ajustar los niveles de inventario basados en las ventas anuales y la rotación de productos.\n",
    "\n",
    "- Calcula la tasa de rotación de inventario"
   ]
  },
  {
   "cell_type": "code",
   "execution_count": 3,
   "metadata": {},
   "outputs": [],
   "source": [
    "data_inventario = {\n",
    "    'Producto': ['Laptop', 'Mouse', 'Teclado', 'Monitor'],\n",
    "    'Inventario_actual': [200, 1500, 800, 150],\n",
    "    'Ventas_anuales': [600, 1800, 900, 300]\n",
    "}\n",
    "\n",
    "df_inventario = pd.DataFrame(data_inventario)"
   ]
  },
  {
   "cell_type": "code",
   "execution_count": null,
   "metadata": {},
   "outputs": [],
   "source": []
  },
  {
   "cell_type": "markdown",
   "metadata": {},
   "source": [
    "### **Ejercicio 4: Evaluación de Campañas de Marketing**\n",
    "Se te ha proporcionado un DataFrame con los resultados de diferentes campañas de marketing en términos de alcance y conversiones. Analiza la eficacia de cada campaña para determinar cuál ha tenido el mejor rendimiento en términos de ROI (retorno de inversión)."
   ]
  },
  {
   "cell_type": "code",
   "execution_count": null,
   "metadata": {},
   "outputs": [],
   "source": [
    "data_campañas = {\n",
    "    'Campaña': ['A', 'B', 'C', 'D'],\n",
    "    'Alcance': [1000, 3000, 2000, 5000],\n",
    "    'Conversiones': [50, 150, 100, 200],\n",
    "    'Costo': [500, 1500, 1000, 2500]\n",
    "}\n",
    "\n",
    "df_campañas = pd.DataFrame(data_campañas)"
   ]
  },
  {
   "cell_type": "code",
   "execution_count": null,
   "metadata": {},
   "outputs": [],
   "source": []
  },
  {
   "cell_type": "markdown",
   "metadata": {},
   "source": [
    "### **Ejercicio 6 (Investigación): Uso del método `melt` en Pandas**\n",
    "\n",
    "**Investiga cómo se utiliza el método `melt` de pandas para transformar DataFrames de un formato ancho a uno largo.** Crea un DataFrame que represente ventas de varios productos en diferentes meses, utiliza `melt` para cambiar su estructura y analiza cómo podría ser útil este formato para comparaciones o visualizaciones posteriores."
   ]
  },
  {
   "cell_type": "code",
   "execution_count": 4,
   "metadata": {},
   "outputs": [],
   "source": [
    "data_ventas = {\n",
    "    'Producto': ['Laptop', 'Smartphone', 'Tablet'],\n",
    "    'Enero': [100, 150, 200],\n",
    "    'Febrero': [110, 120, 180]\n",
    "}\n",
    "\n",
    "df_ventas = pd.DataFrame(data_ventas)"
   ]
  },
  {
   "cell_type": "code",
   "execution_count": null,
   "metadata": {},
   "outputs": [],
   "source": []
  }
 ],
 "metadata": {
  "kernelspec": {
   "display_name": "curso-ine",
   "language": "python",
   "name": "python3"
  },
  "language_info": {
   "codemirror_mode": {
    "name": "ipython",
    "version": 3
   },
   "file_extension": ".py",
   "mimetype": "text/x-python",
   "name": "python",
   "nbconvert_exporter": "python",
   "pygments_lexer": "ipython3",
   "version": "3.12.6"
  }
 },
 "nbformat": 4,
 "nbformat_minor": 2
}
